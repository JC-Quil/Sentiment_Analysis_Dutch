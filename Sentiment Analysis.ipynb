{
 "cells": [
  {
   "cell_type": "markdown",
   "metadata": {},
   "source": [
    "# Sentiment Analysis in Posts\n",
    "\n",
    "### Challenge part 2 - JC QUILLET   \n",
    "   \n",
    "The object of this notebook is the classification of posts written in Dutch according to the sentiment expressed by the author in a post.  \n",
    "\n",
    "### Data processing\n"
   ]
  },
  {
   "cell_type": "code",
   "execution_count": 402,
   "metadata": {},
   "outputs": [],
   "source": [
    "import json\n",
    "import pandas as pd\n",
    "import numpy as np\n",
    "from IPython.display import display, HTML\n",
    "from os import listdir"
   ]
  },
  {
   "cell_type": "code",
   "execution_count": 354,
   "metadata": {},
   "outputs": [
    {
     "name": "stdout",
     "output_type": "stream",
     "text": [
      "{'emotion': '', 'other': '', 'source_url': 'http://www.youtube.com/', 'batch_name': 'Seeds_DUTCH_1-1', 'author_gender': '', 'who_curated': 'Brechtje', 'language': 'Dutch', 'categories': '', 'sentiment': 'neutral', 'url': 'https://www.youtube.com/watch?v=2FYB25e0_4E', 'posted_at': 'Wed Sep 21 17:53:52 2016', 'source': 'youtube', 'source_type': 'video', 'author_location': '', 'relevance_2': 'yes', 'author_username': 'Pphvideo', 'topics': '', 'brands': '', 'content': 'Een dorsmachine wordt gebruikt voor het dorsen - ofwel oogsten van graan, rogge of gerst. Voor de opkomst van zelfrijdende dorsers werd gebruik gemaakt van machines aangedreven door een tractor.', 'author_avatar_url': '', 'noise': '', 'author_url': 'http://youtube.com/channel/UCtVRhmseKQa2DcQnMlbwzQQ', 'source_domain': 'www.youtube.com', 'id': '3054dced040ee03753c98ccc77e1638f3db9bbe8', 'author_name': ' '}\n"
     ]
    }
   ],
   "source": [
    "# List of filenames in the folder containing the dataset\n",
    "filenames = sorted(listdir('dutch_data'))\n",
    "\n",
    "raw_data = []\n",
    "for i in range(len(filenames)):\n",
    "    with open('dutch_data/'+filenames[i]) as f:\n",
    "        raw_data += json.load(f)\n",
    "\n",
    "print(raw_data[1])"
   ]
  },
  {
   "cell_type": "markdown",
   "metadata": {},
   "source": [
    "The dataset contains categories of information that are not relevant for the sentiment analysis, as URLs or author names.   \n",
    "Some samples are not useful, as the sentiment is not defined."
   ]
  },
  {
   "cell_type": "code",
   "execution_count": 355,
   "metadata": {},
   "outputs": [
    {
     "name": "stdout",
     "output_type": "stream",
     "text": [
      "Sentiments: ['neutral' 'positive' 'negative']\n"
     ]
    },
    {
     "data": {
      "text/html": [
       "<table border=\"1\" class=\"dataframe\">\n",
       "  <thead>\n",
       "    <tr style=\"text-align: right;\">\n",
       "      <th></th>\n",
       "      <th>sentiment</th>\n",
       "      <th>content</th>\n",
       "    </tr>\n",
       "  </thead>\n",
       "  <tbody>\n",
       "    <tr>\n",
       "      <th>1</th>\n",
       "      <td>neutral</td>\n",
       "      <td>Een dorsmachine wordt gebruikt voor het dorsen...</td>\n",
       "    </tr>\n",
       "    <tr>\n",
       "      <th>2</th>\n",
       "      <td>neutral</td>\n",
       "      <td>De plant groeit vanuit een flinke bol,eerst on...</td>\n",
       "    </tr>\n",
       "    <tr>\n",
       "      <th>6</th>\n",
       "      <td>neutral</td>\n",
       "      <td>Als de temperatuur boven het vriespunt komt, k...</td>\n",
       "    </tr>\n",
       "    <tr>\n",
       "      <th>7</th>\n",
       "      <td>neutral</td>\n",
       "      <td>Wie zijn er nog meer aanwezig? – Lowieke van R...</td>\n",
       "    </tr>\n",
       "    <tr>\n",
       "      <th>8</th>\n",
       "      <td>neutral</td>\n",
       "      <td>Tot slot nog een vooraanzicht van de hele kaps...</td>\n",
       "    </tr>\n",
       "  </tbody>\n",
       "</table>"
      ],
      "text/plain": [
       "<IPython.core.display.HTML object>"
      ]
     },
     "metadata": {},
     "output_type": "display_data"
    },
    {
     "name": "stdout",
     "output_type": "stream",
     "text": [
      "3166 samples\n",
      "759 positive, 179 negative and 2228 neutral\n",
      "(3166, 2)\n"
     ]
    }
   ],
   "source": [
    "# Discard unecessary data\n",
    "data = pd.DataFrame(raw_data)\n",
    "data = data[['sentiment','content']]\n",
    "data = data[data.sentiment != '']\n",
    "data = data[data.sentiment != 'not sure']\n",
    "data = data.dropna()\n",
    "print('Sentiments: {}'.format(data.sentiment.unique())) # Sentiment categories\n",
    "\n",
    "\n",
    "# Display part of the data loaded\n",
    "def display_pd(some_df):\n",
    "    display(HTML(some_df.to_html()))\n",
    "    \n",
    "display_pd(data.head(5))\n",
    "print('{} samples'.format(data.shape[0]))\n",
    "print('{} positive, {} negative and {} neutral'.format(data[data.sentiment == 'positive'].shape[0],\n",
    "                                                      data[data.sentiment == 'negative'].shape[0],\n",
    "                                                       data[data.sentiment == 'neutral'].shape[0]))\n",
    "print(data.shape)"
   ]
  },
  {
   "cell_type": "markdown",
   "metadata": {},
   "source": [
    "The dataset is relatively modest in size and also imbalanced, as there are much more neutral samples than any other, and very little negative examples."
   ]
  },
  {
   "cell_type": "code",
   "execution_count": 356,
   "metadata": {},
   "outputs": [
    {
     "name": "stdout",
     "output_type": "stream",
     "text": [
      "(3166, 2)\n"
     ]
    }
   ],
   "source": [
    "''' Clean text data, by removing unecessary characters,\n",
    "    numbers, urls, that do not add information for sentiment\n",
    "    analysis.\n",
    "'''\n",
    "\n",
    "import re\n",
    "\n",
    "removeChar = re.compile(\"[.;:!\\'’‘?,\\\"()\\[\\]#@%|_–-]\")\n",
    "replaceAmpersand = re.compile(\"&\")\n",
    "replaceDigits = re.compile('\\d+')\n",
    "removeUrls = re.compile(r'http\\S+')\n",
    "removeMentions = re.compile(r'@[A-Za-z0-9]+')\n",
    "regex = re.compile(r'\\d+(.*?)[\\u263a-\\U0001f645]')\n",
    "\n",
    "def preprocess_reviews(reviews):\n",
    "    reviews = reviews.lower()\n",
    "    reviews = re.sub(regex, \"\", reviews)\n",
    "    reviews = re.sub(removeUrls, \"\", reviews)\n",
    "    reviews = re.sub(removeMentions, \"\", reviews)\n",
    "    reviews = re.sub(removeChar, \"\", reviews)\n",
    "    reviews = re.sub(replaceAmpersand, \"en\", reviews)\n",
    "    reviews = re.sub(replaceDigits, \"\", reviews)\n",
    "    \n",
    "    return str(reviews)\n",
    "\n",
    "data['content'] = data['content'].apply(lambda x : preprocess_reviews(x))\n",
    "print(data.shape)"
   ]
  },
  {
   "cell_type": "code",
   "execution_count": 357,
   "metadata": {},
   "outputs": [
    {
     "name": "stdout",
     "output_type": "stream",
     "text": [
      "[1 2 0]\n",
      "179 negative, 2228 neutral and 759 positive\n"
     ]
    }
   ],
   "source": [
    "# Convert the categories to numbers\n",
    "from sklearn.preprocessing import LabelEncoder\n",
    "\n",
    "LE = LabelEncoder()\n",
    "data['label'] = LE.fit_transform(data['sentiment'])\n",
    "print(data['label'].unique())\n",
    "print('{} negative, {} neutral and {} positive'.format(data[data.label == 0].shape[0],\n",
    "                                                       data[data.label == 1].shape[0],\n",
    "                                                      data[data.label == 2].shape[0]))"
   ]
  },
  {
   "cell_type": "code",
   "execution_count": 358,
   "metadata": {},
   "outputs": [
    {
     "data": {
      "text/html": [
       "<table border=\"1\" class=\"dataframe\">\n",
       "  <thead>\n",
       "    <tr style=\"text-align: right;\">\n",
       "      <th></th>\n",
       "      <th>sentiment</th>\n",
       "      <th>content</th>\n",
       "      <th>label</th>\n",
       "    </tr>\n",
       "  </thead>\n",
       "  <tbody>\n",
       "    <tr>\n",
       "      <th>0</th>\n",
       "      <td>positive</td>\n",
       "      <td>doordat je plant ben je sneller</td>\n",
       "      <td>2</td>\n",
       "    </tr>\n",
       "    <tr>\n",
       "      <th>1</th>\n",
       "      <td>positive</td>\n",
       "      <td>maart is de maand voor het betegelen van het t...</td>\n",
       "      <td>2</td>\n",
       "    </tr>\n",
       "    <tr>\n",
       "      <th>2</th>\n",
       "      <td>positive</td>\n",
       "      <td>ik ben uitgeplaatst in de googerpolder waar ni...</td>\n",
       "      <td>2</td>\n",
       "    </tr>\n",
       "    <tr>\n",
       "      <th>3</th>\n",
       "      <td>positive</td>\n",
       "      <td>dank voor de retweet wat is haarlem toch mooi...</td>\n",
       "      <td>2</td>\n",
       "    </tr>\n",
       "    <tr>\n",
       "      <th>4</th>\n",
       "      <td>positive</td>\n",
       "      <td>bij het bewaren en gebruiken van gewassen die ...</td>\n",
       "      <td>2</td>\n",
       "    </tr>\n",
       "  </tbody>\n",
       "</table>"
      ],
      "text/plain": [
       "<IPython.core.display.HTML object>"
      ]
     },
     "metadata": {},
     "output_type": "display_data"
    },
    {
     "name": "stdout",
     "output_type": "stream",
     "text": [
      "2690 train samples\n",
      "476 test samples\n"
     ]
    }
   ],
   "source": [
    "# Split the dataset between train and test set for testing purpose.\n",
    "from sklearn.model_selection import train_test_split\n",
    "\n",
    "np.random.seed(25)\n",
    "\n",
    "# As the dataset is imbalanced, each category is split separately\n",
    "# to ensure that the test set includes all 3 categories.\n",
    "pos_data = data[data.label == 2].copy(deep = 'True')\n",
    "neg_data = data[data.label == 0].copy(deep = 'True')\n",
    "neu_data = data[data.label == 1].copy(deep = 'True')\n",
    "               \n",
    "pos_train, pos_test = train_test_split(pos_data, test_size=0.15)\n",
    "neg_train, neg_test = train_test_split(neg_data, test_size=0.15)\n",
    "neu_train, neu_test = train_test_split(neu_data, test_size=0.15)\n",
    "\n",
    "df_train = pd.concat([pos_train, neg_train, neu_train])\n",
    "df_train.index = pd.RangeIndex(len(df_train.index))\n",
    "df_test = pd.concat([pos_test, neg_test, neu_test])\n",
    "df_test.index = pd.RangeIndex(len(df_test.index))\n",
    "\n",
    "display_pd(df_train.head(5))\n",
    "print('{} train samples'.format(df_train.shape[0]))\n",
    "print('{} test samples'.format(df_test.shape[0]))"
   ]
  },
  {
   "cell_type": "markdown",
   "metadata": {},
   "source": [
    "### Feature Extraction"
   ]
  },
  {
   "cell_type": "code",
   "execution_count": 258,
   "metadata": {},
   "outputs": [
    {
     "name": "stdout",
     "output_type": "stream",
     "text": [
      "Sample of the vocabulary: ['aanverwante', 'aanvliegroute', 'aanvoer', 'aanvraag', 'aanwenden', 'aanwezig', 'aanwezige', 'aanwijzingen', 'aanwinst']\n",
      "Size of the vocabulary: 12486 words\n",
      "Training set: [[0 0 0 ... 0 0 0]\n",
      " [0 0 0 ... 0 0 0]\n",
      " [0 0 0 ... 0 0 0]\n",
      " ...\n",
      " [0 0 0 ... 0 0 0]\n",
      " [0 0 0 ... 0 0 0]\n",
      " [0 0 0 ... 0 0 0]]\n"
     ]
    }
   ],
   "source": [
    "text_corpus = df_train['content'].copy(deep = True) # Use the training part of the dataset\n",
    "\n",
    "# Apply Sklearns Count Vectorizer to convert the text posts into\n",
    "# vectors. Each feature in a vector represents the utterances count \n",
    "# in a post of each word of the vocabulary.\n",
    "\n",
    "from sklearn.feature_extraction.text import CountVectorizer\n",
    "\n",
    "vectorizer = CountVectorizer()\n",
    "X_train = vectorizer.fit_transform(text_corpus)\n",
    "\n",
    "print('Sample of the vocabulary: {}'.format(vectorizer.get_feature_names()[101:110]))\n",
    "print('Size of the vocabulary: {} words'.format(len(vectorizer.get_feature_names())))\n",
    "print('Training set: {}'.format(X_train.toarray()))"
   ]
  },
  {
   "cell_type": "markdown",
   "metadata": {},
   "source": [
    "The dataset obtained with the count vectorizer transformation is very sparse, as only a few words of the full vocabulary are present in each post."
   ]
  },
  {
   "cell_type": "markdown",
   "metadata": {},
   "source": [
    "### Initial Modeling   \n",
    "\n",
    "A Naive Bayes model is a fast and simple classification algorithms with limited parameters and it is suitable for high-dimensional datasets. \n",
    "Therefore it is suitable as a baseline for our sentiment classification problem."
   ]
  },
  {
   "cell_type": "code",
   "execution_count": 259,
   "metadata": {},
   "outputs": [],
   "source": [
    "# Train our Naive Bayes baseline model.\n",
    "from sklearn.naive_bayes import MultinomialNB\n",
    "\n",
    "clf = MultinomialNB().fit(X_train, df_train['label'])"
   ]
  },
  {
   "cell_type": "code",
   "execution_count": 260,
   "metadata": {},
   "outputs": [
    {
     "name": "stdout",
     "output_type": "stream",
     "text": [
      "Accuracy: 0.7142857142857143\n",
      "Precision: 0.6854166359543649\n",
      "Recall: 0.7142857142857143\n",
      "F1 score: 0.6577926260203399\n"
     ]
    }
   ],
   "source": [
    "#Test our Naive Bayes model\n",
    "from sklearn.metrics import accuracy_score, precision_score, recall_score, f1_score\n",
    "\n",
    "X_test = vectorizer.transform(df_test['content'])\n",
    "y_pred = clf.predict(X_test)\n",
    "print('Accuracy: {}'.format(accuracy_score(df_test['label'], y_pred)))\n",
    "print('Precision: {}'.format(precision_score(df_test['label'], y_pred, average = 'weighted')))\n",
    "print('Recall: {}'.format(recall_score(df_test['label'], y_pred, average = 'weighted')))\n",
    "print('F1 score: {}'.format(f1_score(df_test['label'], y_pred, average = 'weighted')))"
   ]
  },
  {
   "cell_type": "code",
   "execution_count": 262,
   "metadata": {},
   "outputs": [
    {
     "name": "stdout",
     "output_type": "stream",
     "text": [
      "              precision    recall  f1-score   support\n",
      "\n",
      "    negative      0.750     0.111     0.194        27\n",
      "     neutral      0.731     0.940     0.822       335\n",
      "    positive      0.537     0.193     0.284       114\n",
      "\n",
      "    accuracy                          0.714       476\n",
      "   macro avg      0.672     0.415     0.433       476\n",
      "weighted avg      0.685     0.714     0.658       476\n",
      "\n"
     ]
    }
   ],
   "source": [
    "from sklearn import metrics\n",
    "print(metrics.classification_report(df_test['label'], y_pred, target_names=['negative', 'neutral', 'positive'],digits = 3))"
   ]
  },
  {
   "cell_type": "code",
   "execution_count": 263,
   "metadata": {},
   "outputs": [
    {
     "data": {
      "image/png": "[encoded data removed]",
      "text/plain": [
       "<Figure size 432x432 with 2 Axes>"
      ]
     },
     "metadata": {
      "needs_background": "light"
     },
     "output_type": "display_data"
    }
   ],
   "source": [
    "import seaborn as sbn\n",
    "from sklearn.metrics import confusion_matrix\n",
    "conf_mat = confusion_matrix(df_test['label'], y_pred)\n",
    "fig, ax = plt.subplots(figsize=(6,6))\n",
    "sbn.heatmap(conf_mat, annot=True, fmt='d',\n",
    "            xticklabels=['negative', 'neutral', 'positive'], yticklabels=['negative', 'neutral', 'positive'])\n",
    "plt.ylabel('Actual')\n",
    "plt.xlabel('Predicted')\n",
    "plt.show()"
   ]
  },
  {
   "cell_type": "markdown",
   "metadata": {},
   "source": [
    "I chose to calculate the metrics 'weighted', meaning that they are calculated for each sentiment category independently and then averaged, because the dataset is imbalanced.\n",
    "Therefore the metrics reflect the performance on each category equally.   \n",
    "\n",
    "The F1-score is a good measure of the performance of the model as it consider both the precision and the recall to compute the score.   \n",
    "A score of 0.658 means that model has a chance higher than random to identify the sentiment in a post, which is interesting considering the imbalanced dataset.   \n",
    "Nevertheless, this score is largely insufficient for any commercial use.\n",
    "Specially, the recall is very small for positive and negative categories, meaning that the model misclassify both categories.\n",
    "\n",
    "We can try to use other models to try to improve that result."
   ]
  },
  {
   "cell_type": "markdown",
   "metadata": {},
   "source": [
    "### Modeling   \n",
    "\n",
    "In this section, we will explore different models and feature extraction options to try to improve the prediction of the sentiment."
   ]
  },
  {
   "cell_type": "code",
   "execution_count": 371,
   "metadata": {},
   "outputs": [
    {
     "name": "stdout",
     "output_type": "stream",
     "text": [
      "Training set: [[0 0 0 ... 0 0 0]\n",
      " [0 0 0 ... 0 0 0]\n",
      " [0 0 0 ... 0 0 0]\n",
      " ...\n",
      " [0 0 0 ... 0 0 0]\n",
      " [0 0 0 ... 0 0 0]\n",
      " [0 0 0 ... 0 0 0]]\n",
      "13756\n"
     ]
    }
   ],
   "source": [
    "text_corpus = data['content'].copy(deep = True) # In this part we use the full dataset available\n",
    "\n",
    "def vectorize(vectorizer, text):\n",
    "    vectorizer = vectorizer\n",
    "    X_train = vectorizer.fit_transform(text)\n",
    "    return X_train\n",
    "\n",
    "# Apply Count Vectorizer for feature extraction\n",
    "X_train = vectorize(CountVectorizer(), text_corpus)\n",
    "\n",
    "print('Training set: {}'.format(X_train.toarray()))\n",
    "print(len(X_train.toarray()[0]))"
   ]
  },
  {
   "cell_type": "code",
   "execution_count": 343,
   "metadata": {},
   "outputs": [],
   "source": [
    "# Define a set of models to train using Cross Validation for estimating their performance.\n",
    "from sklearn.linear_model import LogisticRegression\n",
    "from sklearn.ensemble import RandomForestClassifier\n",
    "from sklearn.ensemble import AdaBoostClassifier\n",
    "from sklearn.svm import LinearSVC\n",
    "from sklearn.model_selection import cross_val_score\n",
    "\n",
    "models = [\n",
    "    MultinomialNB(),\n",
    "    RandomForestClassifier(n_estimators=150, max_depth=3, random_state=0),\n",
    "    AdaBoostClassifier(),\n",
    "    LinearSVC(max_iter = 2500),\n",
    "    LogisticRegression(solver = 'liblinear', random_state=0, multi_class = 'auto')\n",
    "]"
   ]
  },
  {
   "cell_type": "code",
   "execution_count": 344,
   "metadata": {},
   "outputs": [],
   "source": [
    "# As the dataset is imbalanced we will use from now on a stratified shuffle split \n",
    "# strategy on the full dataset when evaluating a model potential.\n",
    "from sklearn.model_selection import StratifiedShuffleSplit\n",
    "cv = StratifiedShuffleSplit(n_splits=5, test_size=0.15, random_state=42)"
   ]
  },
  {
   "cell_type": "code",
   "execution_count": 345,
   "metadata": {},
   "outputs": [],
   "source": [
    "# Function to train and evaluate our models\n",
    "def train_eval(models, X_train, y_train, cv):\n",
    "    for model in models:\n",
    "        model_name = model.__class__.__name__\n",
    "        accuracies = cross_val_score(model, X_train, y_train, scoring='accuracy', cv=cv)\n",
    "        print(model_name, np.mean(accuracies))"
   ]
  },
  {
   "cell_type": "markdown",
   "metadata": {},
   "source": [
    "#### First run"
   ]
  },
  {
   "cell_type": "code",
   "execution_count": 268,
   "metadata": {},
   "outputs": [
    {
     "name": "stdout",
     "output_type": "stream",
     "text": [
      "MultinomialNB 0.6783157894736842\n",
      "RandomForestClassifier 0.7031578947368421\n",
      "AdaBoostClassifier 0.704421052631579\n"
     ]
    },
    {
     "name": "stderr",
     "output_type": "stream",
     "text": [
      "/usr/local/lib/python3.7/site-packages/sklearn/svm/base.py:929: ConvergenceWarning: Liblinear failed to converge, increase the number of iterations.\n",
      "  \"the number of iterations.\", ConvergenceWarning)\n"
     ]
    },
    {
     "name": "stdout",
     "output_type": "stream",
     "text": [
      "LinearSVC 0.6606315789473683\n",
      "LogisticRegression 0.6896842105263158\n"
     ]
    }
   ],
   "source": [
    "train_eval(models, X_train, data['label'], cv)"
   ]
  },
  {
   "cell_type": "markdown",
   "metadata": {},
   "source": [
    "The Random Forest and Adaboost models obtain the best performance here. Still, the accuracy reaches only 70.4% which is insufficient for our commercial purpose.   \n",
    "\n",
    "There is a different method for feature extraction than Count Vectorizer, that intends to reflect how important or meaningful a word is in the text corpus. It computes the product of a term frequency in a document with the log of its inverse frequency in all the documents (term frequency–inverse document frequency)."
   ]
  },
  {
   "cell_type": "markdown",
   "metadata": {},
   "source": [
    "#### TF-IDF Vectorizer"
   ]
  },
  {
   "cell_type": "code",
   "execution_count": 346,
   "metadata": {},
   "outputs": [
    {
     "name": "stdout",
     "output_type": "stream",
     "text": [
      "Vectors dimension: [[0. 0. 0. ... 0. 0. 0.]\n",
      " [0. 0. 0. ... 0. 0. 0.]\n",
      " [0. 0. 0. ... 0. 0. 0.]\n",
      " ...\n",
      " [0. 0. 0. ... 0. 0. 0.]\n",
      " [0. 0. 0. ... 0. 0. 0.]\n",
      " [0. 0. 0. ... 0. 0. 0.]]\n",
      "13756\n"
     ]
    }
   ],
   "source": [
    "from sklearn.feature_extraction.text import TfidfVectorizer\n",
    "\n",
    "text_corpus = data['content'].copy(deep = True) # In this part we use the full dataset available\n",
    "\n",
    "# Apply Sklearns TF-IDF Vectorizer to convert the text posts into\n",
    "# vectors. Each feature in a vector represents the utterances count \n",
    "# in a post of each word of the vocabulary.\n",
    "X_train = vectorize(TfidfVectorizer(), text_corpus)\n",
    "\n",
    "print('Vectors dimension: {}'.format(X_train.toarray()))\n",
    "print(len(X_train.toarray()[0]))"
   ]
  },
  {
   "cell_type": "code",
   "execution_count": 347,
   "metadata": {},
   "outputs": [
    {
     "name": "stdout",
     "output_type": "stream",
     "text": [
      "MultinomialNB 0.7056842105263158\n",
      "RandomForestClassifier 0.7031578947368421\n",
      "AdaBoostClassifier 0.6947368421052632\n",
      "LinearSVC 0.7035789473684211\n",
      "LogisticRegression 0.7187368421052631\n"
     ]
    }
   ],
   "source": [
    "train_eval(models, X_train, data['label'], cv)"
   ]
  },
  {
   "cell_type": "markdown",
   "metadata": {},
   "source": [
    "Using TF-IDF for creating the vectors as improved the performance of some models, while reducing for instance the performance of the Adaboost model.\n",
    "Still, the best accuracy reached by the Logistic Regression model is only 71.8% which is insufficient for our commercial purpose.   \n",
    "\n",
    "I propose to test an additional pre-processing technique on the text, stemming, to evaluate if it can improve the performance of the models.\n",
    "Stemming refers to cutting off or slicing any pattern of string-terminal characters that is a suffix. In effect it reduces the vocabulary keeping root of words, ignoring inflected or derived forms of words."
   ]
  },
  {
   "cell_type": "markdown",
   "metadata": {},
   "source": [
    "#### Stemming + TF-IDF"
   ]
  },
  {
   "cell_type": "code",
   "execution_count": 348,
   "metadata": {},
   "outputs": [],
   "source": [
    "# Stemming of the words using NLTK Dutch Stemmer\n",
    "from nltk.stem.snowball import DutchStemmer\n",
    "\n",
    "def stemming(input_text):\n",
    "        stemmer = DutchStemmer()\n",
    "        words_list = input_text.split() \n",
    "        stemmed_words = [stemmer.stem(word) for word in words_list]\n",
    "        return \" \".join(stemmed_words)\n",
    "\n",
    "stemmed_data = data.copy(deep = True)\n",
    "stemmed_data['content'] = stemmed_data['content'].apply(lambda x : stemming(x))"
   ]
  },
  {
   "cell_type": "code",
   "execution_count": 349,
   "metadata": {},
   "outputs": [
    {
     "name": "stdout",
     "output_type": "stream",
     "text": [
      "Vectors dimension: 12131\n"
     ]
    }
   ],
   "source": [
    "text_corpus = stemmed_data['content'].copy(deep = True) # In this part we use the full dataset available\n",
    "\n",
    "# Apply TFIDF Vectorizer for feature extraction\n",
    "X_train = vectorize(TfidfVectorizer(), text_corpus)\n",
    "print('Vectors dimension: {}'.format(len(X_train.toarray()[0])))"
   ]
  },
  {
   "cell_type": "code",
   "execution_count": 350,
   "metadata": {
    "scrolled": true
   },
   "outputs": [
    {
     "name": "stdout",
     "output_type": "stream",
     "text": [
      "MultinomialNB 0.703578947368421\n",
      "RandomForestClassifier 0.7031578947368421\n",
      "AdaBoostClassifier 0.6892631578947368\n",
      "LinearSVC 0.7018947368421052\n",
      "LogisticRegression 0.7195789473684211\n"
     ]
    }
   ],
   "source": [
    "train_eval(models, X_train, stemmed_data['label'], cv)"
   ]
  },
  {
   "cell_type": "markdown",
   "metadata": {},
   "source": [
    "Using Stemming on the words has not improved the general performance of the models. \n",
    "\n",
    "I propose to test an additional processing technique to axtract features from the text, using ngrams, to evaluate if it can improve the performance of the models. Ngrams are pairs of n consecutives words that are added as feature to the vectors, in addition to single words, potentially adding context information. We will limit ourselves to bigrams and trigrams."
   ]
  },
  {
   "cell_type": "markdown",
   "metadata": {},
   "source": [
    "#### Ngrams + TF-IDF"
   ]
  },
  {
   "cell_type": "code",
   "execution_count": 272,
   "metadata": {},
   "outputs": [
    {
     "name": "stdout",
     "output_type": "stream",
     "text": [
      "Vectors dimension: 67067\n"
     ]
    }
   ],
   "source": [
    "text_corpus = data['content'].copy(deep = True)\n",
    "\n",
    "# Apply TFIDF Vectorizer with bigrams for feature extraction\n",
    "X_train = vectorize(TfidfVectorizer(ngram_range=(1, 2)), text_corpus)\n",
    "print('Vectors dimension: {}'.format(len(X_train.toarray()[0])))"
   ]
  },
  {
   "cell_type": "code",
   "execution_count": 226,
   "metadata": {},
   "outputs": [
    {
     "name": "stdout",
     "output_type": "stream",
     "text": [
      "MultinomialNB 0.704\n",
      "RandomForestClassifier 0.7031578947368421\n",
      "AdaBoostClassifier 0.6989473684210525\n",
      "LinearSVC 0.7103157894736842\n",
      "LogisticRegression 0.7035789473684211\n"
     ]
    }
   ],
   "source": [
    "train_eval(models, X_train, data['label'], cv)"
   ]
  },
  {
   "cell_type": "code",
   "execution_count": 273,
   "metadata": {},
   "outputs": [
    {
     "name": "stdout",
     "output_type": "stream",
     "text": [
      "Vectors dimension: 138895\n"
     ]
    }
   ],
   "source": [
    "text_corpus = data['content'].copy(deep = True)\n",
    "\n",
    "# Apply TFIDF Vectorizer with trigrams for feature extraction\n",
    "X_train = vectorize(TfidfVectorizer(ngram_range=(1, 3)), text_corpus)\n",
    "print('Vectors dimension: {}'.format(len(X_train.toarray()[0])))"
   ]
  },
  {
   "cell_type": "code",
   "execution_count": 229,
   "metadata": {},
   "outputs": [
    {
     "name": "stdout",
     "output_type": "stream",
     "text": [
      "MultinomialNB 0.7027368421052632\n",
      "RandomForestClassifier 0.7031578947368421\n",
      "AdaBoostClassifier 0.7002105263157895\n",
      "LinearSVC 0.7069473684210525\n",
      "LogisticRegression 0.7018947368421052\n"
     ]
    }
   ],
   "source": [
    "train_eval(models, X_train, data['label'], cv)"
   ]
  },
  {
   "cell_type": "markdown",
   "metadata": {},
   "source": [
    "Using N-grams on the words has not improved the general performance of the models. In addition, the extra-features make the models slower to train.\n",
    "\n",
    "I propose to test the removal of stop words from the test to verify if this will have an effect on the performance of the model.\n",
    "Stop words are very common words in a language that potentially do not add much meaning information to the sentence. "
   ]
  },
  {
   "cell_type": "markdown",
   "metadata": {},
   "source": [
    "#### Stop words removal"
   ]
  },
  {
   "cell_type": "code",
   "execution_count": 231,
   "metadata": {},
   "outputs": [
    {
     "name": "stdout",
     "output_type": "stream",
     "text": [
      "Stop words in Dutch {'of', 'meer', 'haar', 'om', 'altijd', 'eens', 'tegen', 'kunnen', 'je', 'een', 'na', 'wie', 'wil', 'hun', 'van', 'heb', 'niet', 'is', 'waren', 'veel', 'heeft', 'ja', 'daar', 'reeds', 'op', 'zal', 'te', 'geen', 'zijn', 'uw', 'onder', 'zou', 'bij', 'moet', 'zich', 'kon', 'die', 'ik', 'kan', 'maar', 'wordt', 'met', 'hier', 'iets', 'mij', 'zonder', 'de', 'was', 'nog', 'want', 'hebben', 'over', 'zelf', 'er', 'ook', 'alles', 'wat', 'der', 'dus', 'en', 'al', 'het', 'men', 'aan', 'had', 'dan', 'hem', 'zo', 'u', 'wezen', 'toch', 'dit', 'doen', 'worden', 'hij', 'ons', 'door', 'ge', 'me', 'toen', 'uit', 'ze', 'niets', 'tot', 'ben', 'voor', 'zij', 'hoe', 'deze', 'in', 'dat', 'naar', 'nu', 'andere', 'mijn', 'werd', 'omdat', 'geweest', 'als', 'doch', 'iemand'}\n"
     ]
    }
   ],
   "source": [
    "from nltk.corpus import stopwords\n",
    "stop_words = set(stopwords.words('dutch'))\n",
    "print('Stop words in Dutch', stop_words)\n",
    "pattern = re.compile(r'\\b(' + r'|'.join(stopwords.words('dutch')) + r')\\b\\s*')\n",
    "\n",
    "def stopwords_reviews(reviews):\n",
    "    reviews = re.sub(pattern, \"\", reviews)\n",
    "    \n",
    "    return str(reviews)\n",
    "\n",
    "stopwords_data = data.copy(deep = True)\n",
    "stopwords_data['content'] = stopwords_data['content'].apply(lambda x : stopwords_reviews(x))"
   ]
  },
  {
   "cell_type": "code",
   "execution_count": 232,
   "metadata": {},
   "outputs": [
    {
     "name": "stdout",
     "output_type": "stream",
     "text": [
      "Vectors dimension: 13756\n"
     ]
    }
   ],
   "source": [
    "text_corpus = data['content'].copy(deep = True)\n",
    "\n",
    "# Apply TFIDF Vectorizer with trigrams for feature extraction\n",
    "X_train = vectorize(TfidfVectorizer(), text_corpus)\n",
    "print('Vectors dimension: {}'.format(len(X_train.toarray()[0])))"
   ]
  },
  {
   "cell_type": "code",
   "execution_count": 233,
   "metadata": {},
   "outputs": [
    {
     "name": "stdout",
     "output_type": "stream",
     "text": [
      "MultinomialNB 0.7056842105263158\n",
      "RandomForestClassifier 0.7031578947368421\n",
      "AdaBoostClassifier 0.6955789473684211\n",
      "LinearSVC 0.7035789473684211\n",
      "LogisticRegression 0.7187368421052631\n"
     ]
    }
   ],
   "source": [
    "train_eval(models, X_train, data['label'], cv)"
   ]
  },
  {
   "cell_type": "markdown",
   "metadata": {},
   "source": [
    "The removal of the stopwords has also little to no effect on the performance of the models.\n",
    "\n",
    "I propose to try to fine tune our best performing model to improve the performance. The Logistic regression model has reached the best accuracy, and typically perform well on sentiment analysis, as they can handle very sparse data. We will try to optimize this model."
   ]
  },
  {
   "cell_type": "markdown",
   "metadata": {},
   "source": [
    "#### Logistic Regression model tuning   \n",
    "   \n",
    "I decide not to conduct a brute force search over the parameters of this model, as there a not so many to try and that depending on the solver, not all configurations are possible.\n",
    "2 solvers are tested that can perform with relatively small datasets.\n",
    "The multinomial option is tested too (available with lbfgs only).\n",
    "Finally, as we have imbalanced classes, we try to weight them inversely to their frequency."
   ]
  },
  {
   "cell_type": "code",
   "execution_count": 274,
   "metadata": {},
   "outputs": [
    {
     "name": "stdout",
     "output_type": "stream",
     "text": [
      "Vectors dimension: 13756\n"
     ]
    }
   ],
   "source": [
    "text_corpus = data['content'].copy(deep = True) # In this part we use the full dataset available\n",
    "\n",
    "# Apply TFIDF Vectorizer for feature extraction\n",
    "X_train = vectorize(TfidfVectorizer(), text_corpus)\n",
    "print('Vectors dimension: {}'.format(len(X_train.toarray()[0])))"
   ]
  },
  {
   "cell_type": "code",
   "execution_count": 236,
   "metadata": {},
   "outputs": [
    {
     "name": "stdout",
     "output_type": "stream",
     "text": [
      "LogisticRegression 0.7187368421052631\n",
      "LogisticRegression 0.7195789473684211\n",
      "LogisticRegression 0.6416842105263159\n"
     ]
    }
   ],
   "source": [
    "models = [\n",
    "    LogisticRegression(solver = 'liblinear', random_state=0, multi_class = 'auto'),\n",
    "    LogisticRegression(solver = 'lbfgs', random_state=0, multi_class = 'multinomial'),\n",
    "    LogisticRegression(solver = 'lbfgs', random_state=0, multi_class = 'multinomial', class_weight = 'balanced')\n",
    "]\n",
    "\n",
    "train_eval(models, X_train, data['label'], cv)"
   ]
  },
  {
   "cell_type": "markdown",
   "metadata": {},
   "source": [
    "We obtain the best performance with the sover set to 'lbfgs' and non-differentiated class weights and reach an accuracy or 71.9%."
   ]
  },
  {
   "cell_type": "markdown",
   "metadata": {},
   "source": [
    "#### Imbalance reduction using SMOTE    \n",
    "\n",
    "I propose to use, SMOTE, an over-sampling method. It creates synthetic samples of the minority class."
   ]
  },
  {
   "cell_type": "code",
   "execution_count": 372,
   "metadata": {},
   "outputs": [
    {
     "name": "stdout",
     "output_type": "stream",
     "text": [
      "Vectors dimension: 12486\n"
     ]
    }
   ],
   "source": [
    "text_corpus = df_train['content'].copy(deep = True) # In this part we use the full dataset available\n",
    "\n",
    "# Apply Sklearns TF-IDF Vectorizer \n",
    "vectorizer = TfidfVectorizer()\n",
    "X_train = vectorizer.fit_transform(text_corpus)\n",
    "print('Vectors dimension: {}'.format(len(X_train.toarray()[0])))"
   ]
  },
  {
   "cell_type": "code",
   "execution_count": 373,
   "metadata": {},
   "outputs": [
    {
     "name": "stdout",
     "output_type": "stream",
     "text": [
      "Original train samples: 2690, Over-sampled samples: 5679\n",
      "              precision    recall  f1-score   support\n",
      "\n",
      "    negative      0.310     0.333     0.321        27\n",
      "     neutral      0.784     0.770     0.777       335\n",
      "    positive      0.483     0.500     0.491       114\n",
      "\n",
      "    accuracy                          0.681       476\n",
      "   macro avg      0.526     0.534     0.530       476\n",
      "weighted avg      0.685     0.681     0.683       476\n",
      "\n"
     ]
    }
   ],
   "source": [
    "from imblearn.pipeline import make_pipeline\n",
    "from imblearn.over_sampling import SMOTE\n",
    "\n",
    "sm = SMOTE(random_state=42)\n",
    "X_sm, y_sm = sm.fit_sample(X_train, df_train['label'])\n",
    "print('Original train samples: {}, Over-sampled samples: {}'.format(X_train.shape[0],X_sm.shape[0]))\n",
    "clf = LogisticRegression(solver = 'lbfgs', random_state=0, multi_class = 'multinomial')\n",
    "clf.fit(X_sm,y_sm)\n",
    "test_corpus = df_test['content'].copy(deep = True)\n",
    "ytest = vectorizer.transform(test_corpus)\n",
    "y_pred = clf.predict(ytest)\n",
    "\n",
    "print(metrics.classification_report(df_test['label'], y_pred, target_names=['negative', 'neutral', 'positive'],digits = 3))"
   ]
  },
  {
   "cell_type": "code",
   "execution_count": 311,
   "metadata": {},
   "outputs": [
    {
     "data": {
      "image/png": "[encoded data removed]",
      "text/plain": [
       "<Figure size 432x432 with 2 Axes>"
      ]
     },
     "metadata": {
      "needs_background": "light"
     },
     "output_type": "display_data"
    }
   ],
   "source": [
    "conf_mat = confusion_matrix(df_test['label'], y_pred)\n",
    "fig, ax = plt.subplots(figsize=(6,6))\n",
    "sbn.heatmap(conf_mat, annot=True, fmt='d',\n",
    "            xticklabels=['negative', 'neutral', 'positive'], yticklabels=['negative', 'neutral', 'positive'])\n",
    "plt.ylabel('Actual')\n",
    "plt.xlabel('Predicted')\n",
    "plt.show()"
   ]
  },
  {
   "cell_type": "markdown",
   "metadata": {},
   "source": [
    "The overall performance of the model has decreased. Nevertheless, we can see that the recall for neutral and positive categories has improved a lot."
   ]
  },
  {
   "cell_type": "markdown",
   "metadata": {},
   "source": [
    "#### Reduction of data imbalance\n",
    "\n",
    "One way of reducing imbalance is to reduce the set of the over-represented category.\n",
    "We try a differenct train/test split for that purpose.\n",
    "The side-effect will be that the vocabulary vectorised may be less rich, but this would affect the neutral category mostly."
   ]
  },
  {
   "cell_type": "code",
   "execution_count": 312,
   "metadata": {},
   "outputs": [
    {
     "name": "stdout",
     "output_type": "stream",
     "text": [
      "1911 train samples\n",
      "1255 test samples\n"
     ]
    }
   ],
   "source": [
    "# Split the dataset between train and test set.\n",
    "from sklearn.model_selection import train_test_split\n",
    "\n",
    "np.random.seed(25)\n",
    "# As the dataset is imbalanced, categories are split separately\n",
    "# to ensure that the test set includes all 3 categories.\n",
    "pos_data = data[data.label == 2].copy(deep = 'True')\n",
    "neg_data = data[data.label == 0].copy(deep = 'True')\n",
    "neu_data = data[data.label == 1].copy(deep = 'True')\n",
    "               \n",
    "pos_train, pos_test = train_test_split(pos_data, test_size=0.15)\n",
    "neg_train, neg_test = train_test_split(neg_data, test_size=0.15)\n",
    "neu_train, neu_test = train_test_split(neu_data, test_size=0.5)\n",
    "\n",
    "df_train = pd.concat([pos_train, neg_train, neu_train])\n",
    "df_train.index = pd.RangeIndex(len(df_train.index))\n",
    "df_test = pd.concat([pos_test, neg_test, neu_test])\n",
    "df_test.index = pd.RangeIndex(len(df_test.index))\n",
    "\n",
    "print('{} train samples'.format(df_train.shape[0]))\n",
    "print('{} test samples'.format(df_test.shape[0]))"
   ]
  },
  {
   "cell_type": "code",
   "execution_count": 313,
   "metadata": {},
   "outputs": [
    {
     "name": "stdout",
     "output_type": "stream",
     "text": [
      "Vectors dimension: 10080\n"
     ]
    }
   ],
   "source": [
    "text_corpus = df_train['content'].copy(deep = True) # In this part we use the full dataset available\n",
    "\n",
    "# Apply Sklearns TF-IDF Vectorizer to convert the text posts into\n",
    "# vectors. Each feature in a vector represents the utterances count \n",
    "# in a post of each word of the vocabulary.\n",
    "vectorizer = TfidfVectorizer()\n",
    "X_train = vectorizer.fit_transform(text_corpus)\n",
    "print('Vectors dimension: {}'.format(len(X_train.toarray()[0])))"
   ]
  },
  {
   "cell_type": "code",
   "execution_count": 314,
   "metadata": {},
   "outputs": [
    {
     "name": "stdout",
     "output_type": "stream",
     "text": [
      "              precision    recall  f1-score   support\n",
      "\n",
      "    negative      0.100     0.370     0.157        27\n",
      "     neutral      0.923     0.665     0.773      1114\n",
      "    positive      0.182     0.561     0.275       114\n",
      "\n",
      "    accuracy                          0.649      1255\n",
      "   macro avg      0.402     0.532     0.402      1255\n",
      "weighted avg      0.838     0.649     0.715      1255\n",
      "\n"
     ]
    }
   ],
   "source": [
    "clf = LogisticRegression(solver = 'lbfgs', random_state=0, multi_class = 'multinomial', class_weight = 'balanced')\n",
    "#clf.fit(X_train,df_train.label)\n",
    "\n",
    "\n",
    "sm = SMOTE(random_state=42)\n",
    "X_sm, y_sm = sm.fit_sample(X_train, df_train['label'])\n",
    "clf.fit(X_sm,y_sm)\n",
    "\n",
    "\n",
    "X_test = vectorizer.transform(df_test['content'])\n",
    "y_pred = clf.predict(X_test)\n",
    "\n",
    "print(metrics.classification_report(df_test['label'], y_pred, target_names=['negative', 'neutral', 'positive'],digits = 3))"
   ]
  },
  {
   "cell_type": "code",
   "execution_count": 315,
   "metadata": {},
   "outputs": [
    {
     "data": {
      "image/png": "[encoded data removed]",
      "text/plain": [
       "<Figure size 432x432 with 2 Axes>"
      ]
     },
     "metadata": {
      "needs_background": "light"
     },
     "output_type": "display_data"
    }
   ],
   "source": [
    "conf_mat = confusion_matrix(df_test['label'], y_pred)\n",
    "fig, ax = plt.subplots(figsize=(6,6))\n",
    "sbn.heatmap(conf_mat, annot=True, fmt='d',\n",
    "            xticklabels=['negative', 'neutral', 'positive'], yticklabels=['negative', 'neutral', 'positive'])\n",
    "plt.ylabel('Actual')\n",
    "plt.xlabel('Predicted')\n",
    "plt.show()"
   ]
  },
  {
   "cell_type": "markdown",
   "metadata": {},
   "source": [
    "This test is clearly not giving us any positive result, the precision for positive and negative samples has dropped."
   ]
  },
  {
   "cell_type": "markdown",
   "metadata": {},
   "source": [
    "#### Attempt at binary classification   \n",
    "   \n",
    "Typically, binary classification will be a less complex problem over this dataset. We can try to train a binary classifier to separate opinionated posts (both positive and negative) from neutral posts."
   ]
  },
  {
   "cell_type": "code",
   "execution_count": 376,
   "metadata": {},
   "outputs": [
    {
     "name": "stdout",
     "output_type": "stream",
     "text": [
      "[1 0]\n"
     ]
    }
   ],
   "source": [
    "df_binary = data.copy(deep = True) # In this part we use the full dataset available\n",
    "\n",
    "df_binary['label'] = df_binary['label'].replace(2,0)\n",
    "print(df_binary['label'].unique())"
   ]
  },
  {
   "cell_type": "code",
   "execution_count": 377,
   "metadata": {},
   "outputs": [
    {
     "name": "stdout",
     "output_type": "stream",
     "text": [
      "2197 train samples\n",
      "389 test samples\n"
     ]
    }
   ],
   "source": [
    "# Split the dataset between train and test set.\n",
    "from sklearn.model_selection import train_test_split\n",
    "\n",
    "np.random.seed(25)\n",
    "# As the dataset is imbalanced, categories are split separately\n",
    "# to ensure that the test set includes all 3 categories.\n",
    "pos_data = df_binary[data.label == 0].copy(deep = 'True')\n",
    "neu_data = df_binary[data.label == 1].copy(deep = 'True')\n",
    "               \n",
    "pos_train, pos_test = train_test_split(pos_data, test_size=0.15)\n",
    "neu_train, neu_test = train_test_split(neu_data, test_size=0.15)\n",
    "\n",
    "df_train = pd.concat([pos_train, neg_train, neu_train])\n",
    "df_train.index = pd.RangeIndex(len(df_train.index))\n",
    "df_test = pd.concat([pos_test, neg_test, neu_test])\n",
    "df_test.index = pd.RangeIndex(len(df_test.index))\n",
    "\n",
    "print('{} train samples'.format(df_train.shape[0]))\n",
    "print('{} test samples'.format(df_test.shape[0]))"
   ]
  },
  {
   "cell_type": "code",
   "execution_count": 319,
   "metadata": {},
   "outputs": [
    {
     "name": "stdout",
     "output_type": "stream",
     "text": [
      "Vectors dimension: 99167\n"
     ]
    }
   ],
   "source": [
    "text_corpus = df_train['content'].copy(deep = True)\n",
    "\n",
    "# Apply Sklearns TF-IDF Vectorizer\n",
    "vectorizer = TfidfVectorizer(ngram_range=(1, 3))\n",
    "X_train = vectorizer.fit_transform(text_corpus)\n",
    "print('Vectors dimension: {}'.format(len(X_train.toarray()[0])))"
   ]
  },
  {
   "cell_type": "code",
   "execution_count": 323,
   "metadata": {},
   "outputs": [
    {
     "name": "stdout",
     "output_type": "stream",
     "text": [
      "Accuracy: 0.9383033419023136\n",
      "              precision    recall  f1-score   support\n",
      "\n",
      "     pos_neg      0.727     0.889     0.800        54\n",
      "     neutral      0.981     0.946     0.964       335\n",
      "\n",
      "    accuracy                          0.938       389\n",
      "   macro avg      0.854     0.918     0.882       389\n",
      "weighted avg      0.946     0.938     0.941       389\n",
      "\n"
     ]
    }
   ],
   "source": [
    "clf = LogisticRegression(solver = 'lbfgs', random_state=0, C = 1, multi_class = 'multinomial', class_weight = 'balanced')\n",
    "clf.fit(X_train,df_train['label'])\n",
    "\n",
    "\n",
    "X_test = vectorizer.transform(df_test['content'])\n",
    "y_pred = clf.predict(X_test)\n",
    "\n",
    "print('Accuracy: {}'.format(accuracy_score(df_test['label'], y_pred)))\n",
    "print(metrics.classification_report(df_test['label'], y_pred, target_names=['pos_neg', 'neutral'],digits = 3))"
   ]
  },
  {
   "cell_type": "code",
   "execution_count": 322,
   "metadata": {},
   "outputs": [
    {
     "data": {
      "image/png": "[encoded data removed]",
      "text/plain": [
       "<Figure size 432x432 with 2 Axes>"
      ]
     },
     "metadata": {
      "needs_background": "light"
     },
     "output_type": "display_data"
    }
   ],
   "source": [
    "conf_mat = confusion_matrix(df_test['label'], y_pred)\n",
    "fig, ax = plt.subplots(figsize=(6,6))\n",
    "sbn.heatmap(conf_mat, annot=True, fmt='d',\n",
    "            xticklabels=['neg+pos', 'neutral'], yticklabels=['neg+pos', 'neutral'])\n",
    "plt.ylabel('Actual')\n",
    "plt.xlabel('Predicted')\n",
    "plt.show()"
   ]
  },
  {
   "cell_type": "markdown",
   "metadata": {},
   "source": [
    "As expected, the performance of our model is much higher in this case.\n",
    "The accuracy reaches 93.8 % and the F1 score for the positive/negative category reaches 80%.\n",
    "\n",
    "This information is interesting since we can detect and separate the most interesting posts and then try to build a classifier to evaluate the sentiment on this subset.   \n",
    "   \n",
    "We try below to build a classifier between positive and negative posts."
   ]
  },
  {
   "cell_type": "code",
   "execution_count": 388,
   "metadata": {},
   "outputs": [
    {
     "name": "stdout",
     "output_type": "stream",
     "text": [
      "[1 0]\n"
     ]
    }
   ],
   "source": [
    "df_pos_neg = data[data.label != 1].copy(deep = 'True')\n",
    "df_pos_neg['label'] = df_pos_neg['label'].replace(2,1)\n",
    "print(df_pos_neg['label'].unique())"
   ]
  },
  {
   "cell_type": "code",
   "execution_count": 389,
   "metadata": {},
   "outputs": [
    {
     "name": "stdout",
     "output_type": "stream",
     "text": [
      "Vectors dimension: 47308\n"
     ]
    }
   ],
   "source": [
    "text_corpus = df_pos_neg['content'].copy(deep = True)\n",
    "\n",
    "# Apply TFIDF Vectorizer with trigrams for feature extraction\n",
    "vectorizer = TfidfVectorizer(ngram_range=(1, 3))\n",
    "X_train = vectorizer.fit_transform(text_corpus)\n",
    "print('Vectors dimension: {}'.format(len(X_train.toarray()[0])))"
   ]
  },
  {
   "cell_type": "code",
   "execution_count": 390,
   "metadata": {},
   "outputs": [
    {
     "name": "stdout",
     "output_type": "stream",
     "text": [
      "LogisticRegression 0.8595744680851064\n"
     ]
    }
   ],
   "source": [
    "models = [\n",
    "    LogisticRegression(solver = 'liblinear', random_state=0, multi_class = 'auto', class_weight = 'balanced')\n",
    "]\n",
    "\n",
    "train_eval(models, X_train, df_pos_neg['label'], cv)"
   ]
  },
  {
   "cell_type": "markdown",
   "metadata": {},
   "source": [
    "Here we manage to obtain a classifier with an accuracy of 86% to distinguish positive from negative posts."
   ]
  },
  {
   "cell_type": "markdown",
   "metadata": {},
   "source": [
    "## Conclusion   \n",
    "\n",
    "\n",
    "I had a limited success at building a classifier that can differentiate properly post from the 3 sentiment categories, specially for the 2 less represented categories for which we have a lot of false negative. Nevertheless, the problem could be split more successfully into binary classification.\n",
    "It also was the opportunity to evaluate what should be the next steps to solve this problem.\n",
    "\n",
    "After analysing many options, I can make the following observations:   \n",
    "- One issue comes from the imbalanced nature of dataset, that has very few negative examples,\n",
    "- A second issue comes from the limited size of the annotated data, with 3166 annotated samples in total.\n",
    "\n",
    "So one of the priority action I would take for this is to collect more data.\n",
    "\n",
    "To improve the performace of our classification model we can:\n",
    "- Try to collect and annotate more data, in particular from the negative and positive category. It must be noted that the imbalanced dataset probably reflect the actual distribution of the posts that we are trying to categorize,\n",
    "- Other type of models can give us higher performance, like neural network or even Deep Network. However, they require more data to be trained than what we hav now to outperform more classic Machine Learning algorithm,\n",
    "- Other type of feature vectors can be built from the corpus of text, using word embedding models like Word2vec or Glove. They learn a richer representation of the vocabulary, associating words of similar meaning for instance. It requires a larger text corpus to build, for which we can use the non-labelled data we have for instance, but it will handle better unseen words. Such model can also be found pre-trained and will translate very well for any application requiring vectorization of texts.\n",
    "- Another method is to train a set of models, and using ensemble techniques to combine their predictions. This is for instance one of the principle behind the Adaboost algorithm tested here, but it can be applied to othe type of base models."
   ]
  },
  {
   "cell_type": "code",
   "execution_count": null,
   "metadata": {},
   "outputs": [],
   "source": []
  }
 ],
 "metadata": {
  "kernelspec": {
   "display_name": "Python 3",
   "language": "python",
   "name": "python3"
  },
  "language_info": {
   "codemirror_mode": {
    "name": "ipython",
    "version": 3
   },
   "file_extension": ".py",
   "mimetype": "text/x-python",
   "name": "python",
   "nbconvert_exporter": "python",
   "pygments_lexer": "ipython3",
   "version": "3.7.3"
  }
 },
 "nbformat": 4,
 "nbformat_minor": 2
}
